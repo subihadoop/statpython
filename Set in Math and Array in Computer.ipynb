{
 "cells": [
  {
   "cell_type": "markdown",
   "metadata": {},
   "source": [
    "# Discrete Mathematics\n",
    "\n",
    "Counting\n",
    "\n",
    "Counting is the action of finding the number of elements of a finite set of objects.\n",
    "Overview:\n",
    "\n",
    "Counting seems easy enough: 1, 2, 3, 4, etc. This direct approach works well for counting simple things- like your toes-and may be the only approach for extremely complicated things with no identifiable structure. However, subtler methods can help you count many things in the vast middle ground, such as:\n",
    "\n",
    "    The number of different ways to select a dozen doughnuts when there are five varieties available.\n",
    "    The number of 16-bit numbers with exactly 4 ones\n",
    "\n",
    "Perhaps surprisingly, but not coincidentally, these two numbers are the same: 1820\n",
    "\n",
    "Combinatorics is the study of arrangements of objects, it is an important part of discrete mathematics. We must count objects to solve many different types of problems, like the determining whether there are enough telephone numbers or internet protocal (IP) addresses to meet demand. Counting techniques are also used when probabilities of events are computed.\n"
   ]
  },
  {
   "cell_type": "markdown",
   "metadata": {},
   "source": [
    "\n",
    "Example:\n",
    "\n",
    "Solve: How many 3 character combinations can be made using letters AND numbers?\n",
    "\n",
    "Answer: Their are 10 numbers in the number system ranging from (0 to 9) and their are 26 letters in the alphabet ranging from (A to Z), and their are 3 possible spots to place each character or number\n",
    "This means the total number of symbols we can use in a single spot is 10 (the total possible numbers) + 26 (the total possible letters) = 36 symbols per spot.\n",
    "We have 3 possible spots so our answer is 36 * 36 * 36 or 36^3 = 46,656.\n"
   ]
  },
  {
   "cell_type": "code",
   "execution_count": null,
   "metadata": {},
   "outputs": [],
   "source": []
  }
 ],
 "metadata": {
  "kernelspec": {
   "display_name": "Python 3",
   "language": "python",
   "name": "python3"
  },
  "language_info": {
   "codemirror_mode": {
    "name": "ipython",
    "version": 3
   },
   "file_extension": ".py",
   "mimetype": "text/x-python",
   "name": "python",
   "nbconvert_exporter": "python",
   "pygments_lexer": "ipython3",
   "version": "3.7.3"
  }
 },
 "nbformat": 4,
 "nbformat_minor": 2
}
