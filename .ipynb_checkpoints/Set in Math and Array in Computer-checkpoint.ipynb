{
 "cells": [
  {
   "cell_type": "markdown",
   "metadata": {},
   "source": [
    "# Discrete Mathematics\n",
    "\n",
    "Counting\n",
    "\n",
    "Counting is the action of finding the number of elements of a finite set of objects.\n",
    "Overview:\n",
    "\n",
    "Counting seems easy enough: 1, 2, 3, 4, etc. This direct approach works well for counting simple things- like your toes-and may be the only approach for extremely complicated things with no identifiable structure. However, subtler methods can help you count many things in the vast middle ground, such as:\n",
    "\n",
    "    The number of different ways to select a dozen doughnuts when there are five varieties available.\n",
    "    The number of 16-bit numbers with exactly 4 ones\n",
    "\n",
    "Perhaps surprisingly, but not coincidentally, these two numbers are the same: 1820\n",
    "\n",
    "Combinatorics is the study of arrangements of objects, it is an important part of discrete mathematics. We must count objects to solve many different types of problems, like the determining whether there are enough telephone numbers or internet protocal (IP) addresses to meet demand. Counting techniques are also used when probabilities of events are computed.\n"
   ]
  },
  {
   "cell_type": "markdown",
   "metadata": {},
   "source": [
    "\n",
    "Example:\n",
    "\n",
    "Solve: How many 3 character combinations can be made using letters AND numbers?\n",
    "\n",
    "Answer: Their are 10 numbers in the number system ranging from (0 to 9) and their are 26 letters in the alphabet ranging from (A to Z), and their are 3 possible spots to place each character or number\n",
    "This means the total number of symbols we can use in a single spot is 10 (the total possible numbers) + 26 (the total possible letters) = 36 symbols per spot.\n",
    "We have 3 possible spots so our answer is 36 * 36 * 36 or 36^3 = 46,656.\n"
   ]
  },
  {
   "cell_type": "code",
   "execution_count": 1,
   "metadata": {},
   "outputs": [
    {
     "name": "stdout",
     "output_type": "stream",
     "text": [
      "[16, 25, 4, 81]\n"
     ]
    }
   ],
   "source": [
    "numbers = (4, 5, 2, 9)\n",
    "result = map(lambda x: x * x, numbers)\n",
    "print(list(result))"
   ]
  },
  {
   "cell_type": "code",
   "execution_count": 2,
   "metadata": {},
   "outputs": [
    {
     "name": "stdout",
     "output_type": "stream",
     "text": [
      "{'B', 'E', 'G'}\n"
     ]
    }
   ],
   "source": [
    "def change_upper_case(s):\n",
    "    return str(s).upper()\n",
    " \n",
    "chars = {'g', 'b', 'e', 'b', 'g'}\n",
    " \n",
    "result = map(change_upper_case, chars)\n",
    "print(set(result))"
   ]
  },
  {
   "cell_type": "code",
   "execution_count": 3,
   "metadata": {},
   "outputs": [
    {
     "name": "stdout",
     "output_type": "stream",
     "text": [
      "{'B', 'E', 'G'}\n"
     ]
    }
   ],
   "source": [
    "chars = ['g', 'b', 'e', 'b', 'g']\n",
    "result = list(map(lambda s: str(s).upper(), chars))\n",
    "print(set(result))"
   ]
  },
  {
   "cell_type": "code",
   "execution_count": 4,
   "metadata": {},
   "outputs": [
    {
     "name": "stdout",
     "output_type": "stream",
     "text": [
      "('5', 'N', 'GHK')\n"
     ]
    }
   ],
   "source": [
    "def change_upper_case(s):\n",
    "    return str(s).upper()\n",
    " \n",
    "char = (5, 'n', 'ghk') \n",
    " \n",
    "result = map(change_upper_case, char)\n",
    "print(tuple(result))"
   ]
  },
  {
   "cell_type": "code",
   "execution_count": 5,
   "metadata": {},
   "outputs": [
    {
     "name": "stdout",
     "output_type": "stream",
     "text": [
      "('5', 'N', 'GHK')\n"
     ]
    }
   ],
   "source": [
    "char = (5, 'n', 'ghk') \n",
    "result = tuple(map(lambda s: str(s).upper(), char))\n",
    "print(tuple(result))"
   ]
  },
  {
   "cell_type": "code",
   "execution_count": 6,
   "metadata": {},
   "outputs": [
    {
     "name": "stdout",
     "output_type": "stream",
     "text": [
      "[12, 7, 6, 17]\n"
     ]
    }
   ],
   "source": [
    "def addition(x, y):\n",
    "    return x + y\n",
    " \n",
    "numbers1 = [5, 6, 2, 8]\n",
    "numbers2 = [7, 1, 4, 9]\n",
    "result = map(addition, numbers1, numbers2)\n",
    "print(list(result))"
   ]
  },
  {
   "cell_type": "code",
   "execution_count": 7,
   "metadata": {},
   "outputs": [
    {
     "name": "stdout",
     "output_type": "stream",
     "text": [
      "[12, 7, 6, 17]\n"
     ]
    }
   ],
   "source": [
    "numbers1 = [5, 6, 2, 8]\n",
    "numbers2 = [7, 1, 4, 9]\n",
    "  \n",
    "result = map(lambda x, y: x + y, numbers1, numbers2)\n",
    "print(list(result))"
   ]
  },
  {
   "cell_type": "code",
   "execution_count": null,
   "metadata": {},
   "outputs": [],
   "source": [
    "Data Structures\n",
    "\n",
    "This chapter describes some things you’ve learned about already in more detail, and adds some new things as well.\n",
    "5.1. More on Lists\n",
    "\n",
    "The list data type has some more methods. Here are all of the methods of list objects:\n",
    "\n",
    "list.append(x)\n",
    "\n",
    "    Add an item to the end of the list. Equivalent to a[len(a):] = [x].\n",
    "\n",
    "list.extend(iterable)\n",
    "\n",
    "    Extend the list by appending all the items from the iterable. Equivalent to a[len(a):] = iterable.\n",
    "\n",
    "list.insert(i, x)\n",
    "\n",
    "    Insert an item at a given position. The first argument is the index of the element before which to insert, so a.insert(0, x) inserts at the front of the list, and a.insert(len(a), x) is equivalent to a.append(x).\n",
    "\n",
    "list.remove(x)\n",
    "\n",
    "    Remove the first item from the list whose value is equal to x. It raises a ValueError if there is no such item.\n",
    "\n",
    "list.pop([i])\n",
    "\n",
    "    Remove the item at the given position in the list, and return it. If no index is specified, a.pop() removes and returns the last item in the list. (The square brackets around the i in the method signature denote that the parameter is optional, not that you should type square brackets at that position. You will see this notation frequently in the Python Library Reference.)\n",
    "\n",
    "list.clear()\n",
    "\n",
    "    Remove all items from the list. Equivalent to del a[:].\n",
    "\n",
    "list.index(x[, start[, end]])\n",
    "\n",
    "    Return zero-based index in the list of the first item whose value is equal to x. Raises a ValueError if there is no such item.\n",
    "\n",
    "    The optional arguments start and end are interpreted as in the slice notation and are used to limit the search to a particular subsequence of the list. The returned index is computed relative to the beginning of the full sequence rather than the start argument.\n",
    "\n",
    "list.count(x)\n",
    "\n",
    "    Return the number of times x appears in the list.\n",
    "\n",
    "list.sort(*, key=None, reverse=False)\n",
    "\n",
    "    Sort the items of the list in place (the arguments can be used for sort customization, see sorted() for their explanation).\n",
    "\n",
    "list.reverse()\n",
    "\n",
    "    Reverse the elements of the list in place.\n",
    "\n",
    "list.copy()\n",
    "\n",
    "    Return a shallow copy of the list. Equivalent to a[:].\n",
    "\n",
    "An example that uses most of the list methods:"
   ]
  },
  {
   "cell_type": "code",
   "execution_count": 8,
   "metadata": {},
   "outputs": [
    {
     "data": {
      "text/plain": [
       "'pear'"
      ]
     },
     "execution_count": 8,
     "metadata": {},
     "output_type": "execute_result"
    }
   ],
   "source": [
    "fruits = ['orange', 'apple', 'pear', 'banana', 'kiwi', 'apple', 'banana']\n",
    "fruits.count('apple')\n",
    "\n",
    "fruits.count('tangerine')\n",
    "\n",
    "fruits.index('banana')\n",
    "\n",
    "fruits.index('banana', 4)  # Find next banana starting a position 4\n",
    "\n",
    "fruits.reverse()\n",
    "fruits\n",
    "\n",
    "fruits.append('grape')\n",
    "fruits\n",
    "\n",
    "fruits.sort()\n",
    "fruits\n",
    "\n",
    "fruits.pop()"
   ]
  },
  {
   "cell_type": "markdown",
   "metadata": {},
   "source": [
    "Lists have several methods amongst which \n",
    "the append() and extend() methods.\n",
    "The former appends an object to the end of the list (e.g., another list) \n",
    "while the later appends each element of the iterable object\n",
    "(e.g., anothee list) to the end of the list."
   ]
  },
  {
   "cell_type": "code",
   "execution_count": 9,
   "metadata": {},
   "outputs": [
    {
     "data": {
      "text/plain": [
       "[3, 4]"
      ]
     },
     "execution_count": 9,
     "metadata": {},
     "output_type": "execute_result"
    }
   ],
   "source": [
    "stack = [3, 4, 5]\n",
    "stack.append(6)\n",
    "stack.append(7)\n",
    "stack\n",
    "\n",
    "stack.pop()\n",
    "\n",
    "stack\n",
    "\n",
    "stack.pop()\n",
    "\n",
    "stack.pop()\n",
    "\n",
    "stack"
   ]
  },
  {
   "cell_type": "code",
   "execution_count": 11,
   "metadata": {},
   "outputs": [
    {
     "data": {
      "text/plain": [
       "['a', 'b', 'c', ['d', 'e', 'f']]"
      ]
     },
     "execution_count": 11,
     "metadata": {},
     "output_type": "execute_result"
    }
   ],
   "source": [
    "stack = ['a','b']\n",
    "stack.append('c')\n",
    "stack\n",
    "stack.append(['d', 'e', 'f'])\n",
    "stack"
   ]
  },
  {
   "cell_type": "code",
   "execution_count": null,
   "metadata": {},
   "outputs": [],
   "source": [
    "The index() methods searches for an element in a list. For instance: \n",
    "my_list = ['a','b','c','b', 'a']\n",
    "my_list.index('b')"
   ]
  }
 ],
 "metadata": {
  "kernelspec": {
   "display_name": "Python 3",
   "language": "python",
   "name": "python3"
  },
  "language_info": {
   "codemirror_mode": {
    "name": "ipython",
    "version": 3
   },
   "file_extension": ".py",
   "mimetype": "text/x-python",
   "name": "python",
   "nbconvert_exporter": "python",
   "pygments_lexer": "ipython3",
   "version": "3.7.3"
  }
 },
 "nbformat": 4,
 "nbformat_minor": 2
}
